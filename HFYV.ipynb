{
  "nbformat": 4,
  "nbformat_minor": 0,
  "metadata": {
    "colab": {
      "provenance": [],
      "authorship_tag": "ABX9TyNJSZqOXYfur2eN93FUPl1Z",
      "include_colab_link": true
    },
    "kernelspec": {
      "name": "python3",
      "display_name": "Python 3"
    },
    "language_info": {
      "name": "python"
    }
  },
  "cells": [
    {
      "cell_type": "markdown",
      "metadata": {
        "id": "view-in-github",
        "colab_type": "text"
      },
      "source": [
        "<a href=\"https://colab.research.google.com/github/Sarry-dusk21/Chat/blob/master/HFYV.ipynb\" target=\"_parent\"><img src=\"https://colab.research.google.com/assets/colab-badge.svg\" alt=\"Open In Colab\"/></a>"
      ]
    },
    {
      "cell_type": "code",
      "execution_count": 2,
      "metadata": {
        "colab": {
          "base_uri": "https://localhost:8080/"
        },
        "id": "AazB3UYgVt4Y",
        "outputId": "af7b7924-b5cf-45f8-ce36-56b95f97cb32"
      },
      "outputs": [
        {
          "output_type": "stream",
          "name": "stdout",
          "text": [
            "boy's hostel\n"
          ]
        }
      ],
      "source": [
        "room_entry = (\"C3\")\n",
        "name = \"Akaigwe Saviour\"\n",
        "def hostel(code):\n",
        "   print(\"room_entry\",room_entry.isalnum(),\"name\",code.name)\n",
        "if room_entry == (\"A1\"):\n",
        "   print(\"girl's hostel\")\n",
        "elif room_entry == \"A2\":\n",
        "   print(\"girl's hostel\")\n",
        "elif room_entry == \"A3\":\n",
        "   print(\"girl's hostel\")\n",
        "elif room_entry == \"A4\":\n",
        "   print(\"girl's hostel\")\n",
        "elif room_entry == \"C1\":\n",
        "   print(\"boy's hostel\")\n",
        "elif room_entry == \"C2\":\n",
        "   print(\"boy's hostel\")\n",
        "elif room_entry == \"C3\":\n",
        "   print(\"boy's hostel\")\n",
        "elif room_entry == \"C4\":\n",
        "   print(\"boy's hostel\")\n",
        "else:\n",
        "   print(\"girl's hostel\")"
      ]
    }
  ]
}